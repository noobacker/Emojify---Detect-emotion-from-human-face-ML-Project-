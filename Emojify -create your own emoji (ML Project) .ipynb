{
 "cells": [
  {
   "cell_type": "code",
   "execution_count": 2,
   "id": "aec7a769-fe8b-4df7-80db-1a2ea5ec17ed",
   "metadata": {},
   "outputs": [],
   "source": [
    "import numpy as np\n",
    "import matplotlib.pyplot as plt\n",
    "import seaborn as sb\n",
    "from PIL import Image\n",
    "\n",
    "from sklearn import metrics\n",
    "\n",
    "import cv2\n",
    "import os\n",
    "\n",
    "from glob import glob\n",
    "\n",
    "import tensorflow as tf\n",
    "from tensorflow import keras\n",
    "from keras import layers\n",
    "from keras.preprocessing.image import ImageDataGenerator\n",
    "\n",
    "import warnings\n",
    "warnings.filterwarnings('ignore')\n"
   ]
  },
  {
   "cell_type": "code",
   "execution_count": 3,
   "id": "0ca69c60-b035-420e-a609-a878af3426a0",
   "metadata": {},
   "outputs": [
    {
     "name": "stdout",
     "output_type": "stream",
     "text": [
      "The data set has been extracted.\n"
     ]
    }
   ],
   "source": [
    "from zipfile import ZipFile\n",
    "data_path = 'fer2013.zip'\n",
    "\n",
    "with ZipFile(data_path, 'r') as zip:\n",
    "    zip.extractall()\n",
    "print('The data set has been extracted.')\n"
   ]
  },
  {
   "cell_type": "code",
   "execution_count": 4,
   "id": "ed50f985-a42e-47ef-ae8f-1767f831f693",
   "metadata": {},
   "outputs": [
    {
     "data": {
      "text/plain": [
       "['happy', 'sad', 'fear', 'surprise', 'neutral', 'angry', 'disgust']"
      ]
     },
     "execution_count": 4,
     "metadata": {},
     "output_type": "execute_result"
    }
   ],
   "source": [
    "path = 'train'\n",
    "classes = os.listdir('train')\n",
    "classes"
   ]
  },
  {
   "cell_type": "code",
   "execution_count": 5,
   "id": "4e4b49da-0efc-4aa3-8244-941c26888689",
   "metadata": {},
   "outputs": [
    {
     "data": {
      "image/png": "[encoded data removed]",
      "text/plain": [
       "<Figure size 640x480 with 1 Axes>"
      ]
     },
     "metadata": {},
     "output_type": "display_data"
    }
   ],
   "source": [
    "count = []\n",
    "for cat in classes:\n",
    "    count.append(len(os.listdir(f'{path}/{cat}')))\n",
    "\n",
    "sb.barplot(x=classes, y=count)\n",
    "plt.show()"
   ]
  },
  {
   "cell_type": "code",
   "execution_count": 6,
   "id": "dd42d82e-5236-4f8a-aea0-5c7c1a38c038",
   "metadata": {},
   "outputs": [
    {
     "name": "stdout",
     "output_type": "stream",
     "text": [
      "Found 28709 images belonging to 7 classes.\n",
      "Found 7178 images belonging to 7 classes.\n"
     ]
    }
   ],
   "source": [
    "train_datagen = ImageDataGenerator(rescale=1./255)\n",
    "val_datagen = ImageDataGenerator(rescale=1./255)\n",
    "\n",
    "train_gen = train_datagen.flow_from_directory(\n",
    "\t\t'train',\n",
    "\t\ttarget_size=(48,48),\n",
    "\t\tbatch_size=64,\n",
    "\t\tcolor_mode=\"grayscale\",\n",
    "\t\tclass_mode='categorical')\n",
    "\n",
    "val_gen = val_datagen.flow_from_directory(\n",
    "\t\t'test',\n",
    "\t\ttarget_size=(48,48),\n",
    "\t\tbatch_size=64,\n",
    "\t\tcolor_mode=\"grayscale\",\n",
    "\t\tclass_mode='categorical')\n"
   ]
  },
  {
   "cell_type": "code",
   "execution_count": 7,
   "id": "fe0e4c4b-f5cb-4b2d-bf21-c61949773697",
   "metadata": {},
   "outputs": [],
   "source": [
    "emotions = list(train_gen.class_indices.keys())\n"
   ]
  },
  {
   "cell_type": "code",
   "execution_count": 8,
   "id": "c3c0f68e-5f76-401f-8399-f922710101fc",
   "metadata": {},
   "outputs": [],
   "source": [
    "model = keras.models.Sequential([\n",
    "\t\t\t\t\t\t\t\t\tlayers.Conv2D(32,(3,3),activation='relu',input_shape=(48, 48, 1)),\n",
    "\t\t\t\t\t\t\t\t\tlayers.Conv2D(64,(3,3),activation='relu'),\n",
    "\t\t\t\t\t\t\t\t\tlayers.MaxPooling2D(2,2),\n",
    "\n",
    "\n",
    "\t\t\t\t\t\t\t\t\tlayers.Flatten(),\n",
    "\t\t\t\t\t\t\t\t\tlayers.Dense(64,activation='relu'),\n",
    "\t\t\t\t\t\t\t\t\tlayers.BatchNormalization(),\n",
    "\t\t\t\t\t\t\t\t\tlayers.Dense(32,activation='relu'),\n",
    "\t\t\t\t\t\t\t\t\tlayers.Dropout(0.3),\n",
    "\t\t\t\t\t\t\t\t\tlayers.BatchNormalization(),\n",
    "\t\t\t\t\t\t\t\t\tlayers.Dense(7, activation='softmax')\n",
    "])\n"
   ]
  },
  {
   "cell_type": "code",
   "execution_count": 9,
   "id": "380ed07d-95d4-4692-980f-58342391a588",
   "metadata": {},
   "outputs": [],
   "source": [
    "model.compile(\n",
    "\toptimizer = 'adam',\n",
    "\tloss = 'categorical_crossentropy',\n",
    "\tmetrics=['accuracy']\n",
    ")\n"
   ]
  },
  {
   "cell_type": "code",
   "execution_count": 10,
   "id": "ac4d0f1d-9fde-46df-b36d-7ea1d13b5a8f",
   "metadata": {},
   "outputs": [],
   "source": [
    "from keras.callbacks import EarlyStopping, ReduceLROnPlateau\n",
    "\n",
    "class myCallback(tf.keras.callbacks.Callback):\n",
    "    def on_epoch_end(self, epoch, logs={}):\n",
    "        if logs.get('val_accuracy') > 0.90:\n",
    "            print('\\nValidation accuracy has reached up to 90%, so stopping further training.')\n",
    "            self.model.stop_training = True\n",
    "\n",
    "es = EarlyStopping(patience=3, monitor='val_accuracy', restore_best_weights=True)\n",
    "lr = ReduceLROnPlateau(monitor='val_loss', patience=2, factor=0.5, verbose=1)\n"
   ]
  },
  {
   "cell_type": "code",
   "execution_count": 11,
   "id": "c9b98bba-04b5-4ecd-aea2-da30685c4ef2",
   "metadata": {},
   "outputs": [
    {
     "name": "stdout",
     "output_type": "stream",
     "text": [
      "449/449 [==============================] - 89s 196ms/step - loss: 1.7610 - accuracy: 0.3385 - val_loss: 1.6856 - val_accuracy: 0.3523 - lr: 0.0010\n"
     ]
    }
   ],
   "source": [
    "history = model.fit(train_gen,\n",
    "\t\t\t\t\tvalidation_data = val_gen,\n",
    "\t\t\t\t\tepochs = 1,\n",
    "\t\t\t\t\tverbose = 1,\n",
    "\t\t\t\t\tcallbacks = [es, lr, myCallback()])\n"
   ]
  },
  {
   "cell_type": "code",
   "execution_count": 12,
   "id": "2a2c60d6-1d63-4115-b329-7aeae0f42b82",
   "metadata": {},
   "outputs": [],
   "source": [
    "def plot_image(img, emoj):\n",
    "\twmin = 256\n",
    "\thmin = 256\n",
    "\n",
    "\temoj = cv2.resize(emoj, (wmin, hmin))\n",
    "\timg = cv2.resize(img, (wmin, hmin))\n",
    "\tcv2.imshow('Images', cv2.hconcat([img, emoj]))\n"
   ]
  },
  {
   "cell_type": "code",
   "execution_count": 13,
   "id": "1b8ce82e-63b7-4964-9819-5c7b2b9de171",
   "metadata": {},
   "outputs": [
    {
     "name": "stdout",
     "output_type": "stream",
     "text": [
      "1/1 [==============================] - 0s 72ms/step\n"
     ]
    }
   ],
   "source": [
    "face_cascade = cv2.CascadeClassifier('haarcascade_frontalface_default.xml')\n",
    "\n",
    "img = cv2.imread('harshal.jpg')\n",
    "gray = cv2.cvtColor(img, cv2.COLOR_BGR2GRAY)\n",
    "faces = face_cascade.detectMultiScale(gray)\n",
    "\n",
    "for (x, y, w, h) in faces:\n",
    "\tgray = cv2.resize(gray[x:x+w-10,y:y+h+10], (48,48))\n",
    "\tgray = np.expand_dims(gray, axis=-1)\n",
    "\tgray = np.expand_dims(gray, axis=0)\n",
    "\n",
    "\tpred = model.predict(gray)\n",
    "\tidx = pred.argmax(axis=-1)[0]\n",
    "\n",
    "\temoj = cv2.imread(f'emojis/{classes[idx]}.jpg')\n",
    "\n",
    "\tplot_image(img, emoj)\n",
    "\n",
    "\tif cv2.waitKey(1) & 0xFF == ord('q'):\n",
    "\t\tbreak\n",
    "\n",
    "cv2.destroyAllWindows()\n"
   ]
  },
  {
   "cell_type": "code",
   "execution_count": 14,
   "id": "6e61aeec-67f2-4d5f-90fc-e527ee0bb64f",
   "metadata": {},
   "outputs": [
    {
     "data": {
      "text/plain": [
       "'fear'"
      ]
     },
     "execution_count": 14,
     "metadata": {},
     "output_type": "execute_result"
    }
   ],
   "source": [
    "classes[idx]"
   ]
  },
  {
   "cell_type": "code",
   "execution_count": null,
   "id": "c410b4f0-6523-4976-be6f-af4ad16f5b91",
   "metadata": {},
   "outputs": [],
   "source": []
  }
 ],
 "metadata": {
  "kernelspec": {
   "display_name": "Python 3 (ipykernel)",
   "language": "python",
   "name": "python3"
  },
  "language_info": {
   "codemirror_mode": {
    "name": "ipython",
    "version": 3
   },
   "file_extension": ".py",
   "mimetype": "text/x-python",
   "name": "python",
   "nbconvert_exporter": "python",
   "pygments_lexer": "ipython3",
   "version": "3.10.12"
  }
 },
 "nbformat": 4,
 "nbformat_minor": 5
}
